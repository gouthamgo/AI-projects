{
  "nbformat": 4,
  "nbformat_minor": 0,
  "metadata": {
    "colab": {
      "provenance": [],
      "authorship_tag": "ABX9TyO1zzn7nHRFPG1CV6Y4JfYJ"
    },
    "kernelspec": {
      "name": "python3",
      "display_name": "Python 3"
    },
    "language_info": {
      "name": "python"
    }
  },
  "cells": [
    {
      "cell_type": "code",
      "source": [
        "!pip install ydata-profiling pandas"
      ],
      "metadata": {
        "collapsed": true,
        "id": "6Xpclw_2gYuK"
      },
      "execution_count": null,
      "outputs": []
    },
    {
      "cell_type": "code",
      "source": [
        "import pandas as pd\n",
        "from ydata_profiling import ProfileReport\n",
        "\n",
        "df = pd.read_csv('titanic.csv')"
      ],
      "metadata": {
        "id": "vvSTD2msg-av"
      },
      "execution_count": null,
      "outputs": []
    },
    {
      "cell_type": "code",
      "source": [
        "profile = ProfileReport(df, title='Titanic Dataset')\n",
        "profile.to_file('titanic_report.html')"
      ],
      "metadata": {
        "id": "uKbVDn4uhR3k"
      },
      "execution_count": null,
      "outputs": []
    }
  ]
}